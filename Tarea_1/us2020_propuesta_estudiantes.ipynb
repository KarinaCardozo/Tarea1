{
 "cells": [
  {
   "attachments": {},
   "cell_type": "markdown",
   "metadata": {},
   "source": [
    "# Introducción a la Ciencia de Datos: Tarea 1\n",
    "\n",
    "Este notebook contiene el código de base para realizar la Tarea 1 del curso. Puede copiarlo en su propio repositorio y trabajar sobre el mismo.\n",
    "Las **instrucciones para ejecutar el notebook** están en la [página inicial del repositorio](https://gitlab.fing.edu.uy/maestria-cdaa/intro-cd).\n",
    "\n",
    "Se utiliza el lenguaje Python y la librería Pandas. Si no tiene ninguna familiaridad con la librería, se recomienda realizar algún tutorial introductorio (ver debajo).\n",
    "También se espera que los alumnos sean proactivos a la hora de consultar las documentaciones de las librerías y del lenguaje, para entender el código provisto.\n",
    "Además de los recursos provistos en la [página del curso](https://eva.fing.edu.uy/course/view.php?id=1378&section=1), los siguientes recursos le pueden resultar interesantes:\n",
    " - [Pandas getting started](https://pandas.pydata.org/docs/getting_started/index.html#getting-started) y [10 minutes to pandas](https://pandas.pydata.org/docs/user_guide/10min.html): Son parte de la documentación en la página oficial de Pandas.\n",
    " - [Kaggle Learn](https://www.kaggle.com/learn): Incluye tutoriales de Python y Pandas.\n",
    "\n",
    "\n",
    "Si desea utilizar el lenguaje R y está dispuesto a no utilizar (o traducir) este código de base, también puede hacerlo.\n",
    "\n",
    "En cualquier caso, **se espera que no sea necesario revisar el código para corregir la tarea**, ya que todos los resultados y análisis relevantes deberían estar en el **informe en formato PDF**."
   ]
  },
  {
   "attachments": {},
   "cell_type": "markdown",
   "metadata": {},
   "source": [
    "## Cargar bibliotecas (dependencias)\n",
    "Recuerde instalar los requerimientos (`requirements.txt`) en el mismo entorno donde está ejecutando este notebook (ver [README](https://github.com/DonBraulio/introCD))."
   ]
  },
  {
   "cell_type": "code",
   "execution_count": 1,
   "metadata": {},
   "outputs": [],
   "source": [
    "from time import time\n",
    "from pathlib import Path\n",
    "\n",
    "import pandas as pd\n",
    "import matplotlib.pyplot as plt\n",
    "import seaborn as sns\n",
    "import networkx as nx\n",
    "\n",
    "# Agregue aqui el resto de las librerias que necesite\n",
    "# from ...\n",
    "# import ..."
   ]
  },
  {
   "attachments": {},
   "cell_type": "markdown",
   "metadata": {},
   "source": [
    "## Lectura de Datos"
   ]
  },
  {
   "cell_type": "code",
   "execution_count": 2,
   "metadata": {},
   "outputs": [
    {
     "data": {
      "text/html": [
       "<div>\n",
       "<style scoped>\n",
       "    .dataframe tbody tr th:only-of-type {\n",
       "        vertical-align: middle;\n",
       "    }\n",
       "\n",
       "    .dataframe tbody tr th {\n",
       "        vertical-align: top;\n",
       "    }\n",
       "\n",
       "    .dataframe thead th {\n",
       "        text-align: right;\n",
       "    }\n",
       "</style>\n",
       "<table border=\"1\" class=\"dataframe\">\n",
       "  <thead>\n",
       "    <tr style=\"text-align: right;\">\n",
       "      <th></th>\n",
       "      <th>speaker</th>\n",
       "      <th>title</th>\n",
       "      <th>text</th>\n",
       "      <th>date</th>\n",
       "      <th>location</th>\n",
       "      <th>type</th>\n",
       "    </tr>\n",
       "  </thead>\n",
       "  <tbody>\n",
       "    <tr>\n",
       "      <th>0</th>\n",
       "      <td>David Perdue</td>\n",
       "      <td>Georgia Sen. David Perdue Speech Transcript at...</td>\n",
       "      <td>David Perdue: (00:01)\\nHow great is it to be b...</td>\n",
       "      <td>Oct 16, 2020</td>\n",
       "      <td>Macon, Georgia</td>\n",
       "      <td>Campaign Speech</td>\n",
       "    </tr>\n",
       "    <tr>\n",
       "      <th>1</th>\n",
       "      <td>Joe Biden</td>\n",
       "      <td>Joe Biden Southfield, MI Speech on Health Care...</td>\n",
       "      <td>Joe Biden: (00:00)\\nHello, Michigan. Hi, how a...</td>\n",
       "      <td>Oct 16, 2020</td>\n",
       "      <td>Southfield ,Michigan</td>\n",
       "      <td>Campaign Speech</td>\n",
       "    </tr>\n",
       "    <tr>\n",
       "      <th>2</th>\n",
       "      <td>Donald Trump</td>\n",
       "      <td>Donald Trump Speech Transcript ‘Protecting Ame...</td>\n",
       "      <td>President Trump: (00:30)\\nThank you. What a ni...</td>\n",
       "      <td>Oct 16, 2020</td>\n",
       "      <td>Fort Myers, Florida</td>\n",
       "      <td>Campaign Speech</td>\n",
       "    </tr>\n",
       "    <tr>\n",
       "      <th>3</th>\n",
       "      <td>Joe Biden</td>\n",
       "      <td>Joe Biden ABC Town Hall Transcript October 15</td>\n",
       "      <td>George Stephanopoulos: (00:41)\\nHey, and welco...</td>\n",
       "      <td>Oct 15, 2020</td>\n",
       "      <td>ABC</td>\n",
       "      <td>Town Hall</td>\n",
       "    </tr>\n",
       "    <tr>\n",
       "      <th>4</th>\n",
       "      <td>Donald Trump</td>\n",
       "      <td>Donald Trump NBC Town Hall Transcript October 15</td>\n",
       "      <td>Savannah Guthrie: (03:50)\\nIt’s nothing but no...</td>\n",
       "      <td>Oct 15, 2020</td>\n",
       "      <td>NBC</td>\n",
       "      <td>Town Hall</td>\n",
       "    </tr>\n",
       "    <tr>\n",
       "      <th>...</th>\n",
       "      <td>...</td>\n",
       "      <td>...</td>\n",
       "      <td>...</td>\n",
       "      <td>...</td>\n",
       "      <td>...</td>\n",
       "      <td>...</td>\n",
       "    </tr>\n",
       "    <tr>\n",
       "      <th>264</th>\n",
       "      <td>Bernie Sanders</td>\n",
       "      <td>Bernie Sanders Speech Transcript: Sanders Spea...</td>\n",
       "      <td>Bernie Sanders: (00:00)\\nJust want to take thi...</td>\n",
       "      <td>Feb 6, 2020</td>\n",
       "      <td>Iowa</td>\n",
       "      <td>Campaign Speech</td>\n",
       "    </tr>\n",
       "    <tr>\n",
       "      <th>265</th>\n",
       "      <td>Democratic Candidates</td>\n",
       "      <td>Transcript: Speeches at the Iowa Caucuses – Be...</td>\n",
       "      <td>Bernie Sanders: (00:08)\\nThank you. Thank you....</td>\n",
       "      <td>Feb 4, 2020</td>\n",
       "      <td>Iowa</td>\n",
       "      <td>Campaign Speech</td>\n",
       "    </tr>\n",
       "    <tr>\n",
       "      <th>266</th>\n",
       "      <td>Donald Trump</td>\n",
       "      <td>Donal Trump Iowa Rally Transcript: Trump Holds...</td>\n",
       "      <td>Donald Trump: (00:24)\\nI worked so hard for th...</td>\n",
       "      <td>Jan 30, 2020</td>\n",
       "      <td>Des Moines, Iowa</td>\n",
       "      <td>Campaign Speech</td>\n",
       "    </tr>\n",
       "    <tr>\n",
       "      <th>267</th>\n",
       "      <td>Donald Trump</td>\n",
       "      <td>Donald Trump New Jersey Rally Speech Transcrip...</td>\n",
       "      <td>Donald Trump: (01:22)\\nThank you. Thank you. I...</td>\n",
       "      <td>Jan 28, 2020</td>\n",
       "      <td>Wildwood, New Jersey</td>\n",
       "      <td>Campaign Speech</td>\n",
       "    </tr>\n",
       "    <tr>\n",
       "      <th>268</th>\n",
       "      <td>Democratic Candidates</td>\n",
       "      <td>January Iowa Democratic Debate Transcript</td>\n",
       "      <td>Wolf Blitzer: (00:00)\\nAll right, so let’s beg...</td>\n",
       "      <td>Jan 15, 2020</td>\n",
       "      <td>Des Moines, Iowa</td>\n",
       "      <td>Debate</td>\n",
       "    </tr>\n",
       "  </tbody>\n",
       "</table>\n",
       "<p>269 rows × 6 columns</p>\n",
       "</div>"
      ],
      "text/plain": [
       "                   speaker                                              title  \\\n",
       "0             David Perdue  Georgia Sen. David Perdue Speech Transcript at...   \n",
       "1                Joe Biden  Joe Biden Southfield, MI Speech on Health Care...   \n",
       "2             Donald Trump  Donald Trump Speech Transcript ‘Protecting Ame...   \n",
       "3                Joe Biden      Joe Biden ABC Town Hall Transcript October 15   \n",
       "4             Donald Trump   Donald Trump NBC Town Hall Transcript October 15   \n",
       "..                     ...                                                ...   \n",
       "264         Bernie Sanders  Bernie Sanders Speech Transcript: Sanders Spea...   \n",
       "265  Democratic Candidates  Transcript: Speeches at the Iowa Caucuses – Be...   \n",
       "266           Donald Trump  Donal Trump Iowa Rally Transcript: Trump Holds...   \n",
       "267           Donald Trump  Donald Trump New Jersey Rally Speech Transcrip...   \n",
       "268  Democratic Candidates          January Iowa Democratic Debate Transcript   \n",
       "\n",
       "                                                  text          date  \\\n",
       "0    David Perdue: (00:01)\\nHow great is it to be b...  Oct 16, 2020   \n",
       "1    Joe Biden: (00:00)\\nHello, Michigan. Hi, how a...  Oct 16, 2020   \n",
       "2    President Trump: (00:30)\\nThank you. What a ni...  Oct 16, 2020   \n",
       "3    George Stephanopoulos: (00:41)\\nHey, and welco...  Oct 15, 2020   \n",
       "4    Savannah Guthrie: (03:50)\\nIt’s nothing but no...  Oct 15, 2020   \n",
       "..                                                 ...           ...   \n",
       "264  Bernie Sanders: (00:00)\\nJust want to take thi...   Feb 6, 2020   \n",
       "265  Bernie Sanders: (00:08)\\nThank you. Thank you....   Feb 4, 2020   \n",
       "266  Donald Trump: (00:24)\\nI worked so hard for th...  Jan 30, 2020   \n",
       "267  Donald Trump: (01:22)\\nThank you. Thank you. I...  Jan 28, 2020   \n",
       "268  Wolf Blitzer: (00:00)\\nAll right, so let’s beg...  Jan 15, 2020   \n",
       "\n",
       "                 location             type  \n",
       "0          Macon, Georgia  Campaign Speech  \n",
       "1    Southfield ,Michigan  Campaign Speech  \n",
       "2     Fort Myers, Florida  Campaign Speech  \n",
       "3                     ABC        Town Hall  \n",
       "4                     NBC        Town Hall  \n",
       "..                    ...              ...  \n",
       "264                  Iowa  Campaign Speech  \n",
       "265                  Iowa  Campaign Speech  \n",
       "266      Des Moines, Iowa  Campaign Speech  \n",
       "267  Wildwood, New Jersey  Campaign Speech  \n",
       "268      Des Moines, Iowa           Debate  \n",
       "\n",
       "[269 rows x 6 columns]"
      ]
     },
     "execution_count": 2,
     "metadata": {},
     "output_type": "execute_result"
    }
   ],
   "source": [
    "# DataFrame con todos los discursos:\n",
    "df_speeches = pd.read_csv('../data/us_2020_election_speeches.csv')\n",
    "df_speeches"
   ]
  },
  {
   "cell_type": "markdown",
   "metadata": {},
   "source": [
    "# Parte 1: Cargado y Limpieza de Datos"
   ]
  },
  {
   "attachments": {},
   "cell_type": "markdown",
   "metadata": {},
   "source": [
    "## Exploración de Datos"
   ]
  },
  {
   "cell_type": "code",
   "execution_count": 3,
   "metadata": {},
   "outputs": [],
   "source": [
    "# TODO: Analice la cantidad de discursos por candidato\n",
    "\n",
    "# Tome los 5 candidatos con más discursos\n",
    "# df_speeches_top_5 = ..."
   ]
  },
  {
   "cell_type": "markdown",
   "metadata": {},
   "source": [
    "## Visualizaciones"
   ]
  },
  {
   "cell_type": "code",
   "execution_count": 4,
   "metadata": {},
   "outputs": [],
   "source": [
    "# TODO: Visualización de los discursos de cada candidato a lo largo del tiempo \n"
   ]
  },
  {
   "attachments": {},
   "cell_type": "markdown",
   "metadata": {},
   "source": [
    "## Limpieza de Texto y Conteo de Palabras"
   ]
  },
  {
   "cell_type": "code",
   "execution_count": 5,
   "metadata": {},
   "outputs": [],
   "source": [
    "def clean_text(df, column_name):\n",
    "\n",
    "    # Eliminar primeras palabras hasta el primer \"\\n\"\n",
    "    result = df[column_name].str.replace(r\"^[^\\n]*\\n\", \"\", regex=True)\n",
    "\n",
    "    # Convertir todo a minúsculas\n",
    "    result = result.str.lower()\n",
    "\n",
    "    # TODO: completar signos de puntuación faltantes\n",
    "    for punc in [\"[\", \"\\n\", \",\", \":\", \"?\"]:\n",
    "        result = result.str.replace(punc, \" \")\n",
    "    \n",
    "    return result\n",
    "\n",
    "# TODO: Creamos una nueva columna CleanText a partir de text\n",
    "# df_speeches_top_5[\"CleanText\"] = "
   ]
  },
  {
   "cell_type": "code",
   "execution_count": 6,
   "metadata": {},
   "outputs": [
    {
     "ename": "NameError",
     "evalue": "name 'df_speeches_top_5' is not defined",
     "output_type": "error",
     "traceback": [
      "\u001b[31m---------------------------------------------------------------------------\u001b[39m",
      "\u001b[31mNameError\u001b[39m                                 Traceback (most recent call last)",
      "\u001b[36mCell\u001b[39m\u001b[36m \u001b[39m\u001b[32mIn[6]\u001b[39m\u001b[32m, line 2\u001b[39m\n\u001b[32m      1\u001b[39m \u001b[38;5;66;03m# Convierte párrafos en listas \"palabra1 palabra2 palabra3\" -> [\"palabra1\", \"palabra2\", \"palabra3\"]\u001b[39;00m\n\u001b[32m----> \u001b[39m\u001b[32m2\u001b[39m df_speeches_top_5[\u001b[33m\"\u001b[39m\u001b[33mWordList\u001b[39m\u001b[33m\"\u001b[39m] = \u001b[43mdf_speeches_top_5\u001b[49m[\u001b[33m\"\u001b[39m\u001b[33mCleanText\u001b[39m\u001b[33m\"\u001b[39m].str.split()\n\u001b[32m      4\u001b[39m \u001b[38;5;66;03m# Veamos la nueva columna creada: notar que a la derecha tenemos una lista: [palabra1, palabra2, palabra3]\u001b[39;00m\n\u001b[32m      5\u001b[39m df_speeches_top_5[[\u001b[33m\"\u001b[39m\u001b[33mCleanText\u001b[39m\u001b[33m\"\u001b[39m, \u001b[33m\"\u001b[39m\u001b[33mWordList\u001b[39m\u001b[33m\"\u001b[39m]]\n",
      "\u001b[31mNameError\u001b[39m: name 'df_speeches_top_5' is not defined"
     ]
    }
   ],
   "source": [
    "# Convierte párrafos en listas \"palabra1 palabra2 palabra3\" -> [\"palabra1\", \"palabra2\", \"palabra3\"]\n",
    "df_speeches_top_5[\"WordList\"] = df_speeches_top_5[\"CleanText\"].str.split()\n",
    "\n",
    "# Veamos la nueva columna creada: notar que a la derecha tenemos una lista: [palabra1, palabra2, palabra3]\n",
    "df_speeches_top_5[[\"CleanText\", \"WordList\"]]"
   ]
  },
  {
   "cell_type": "markdown",
   "metadata": {},
   "source": [
    "# Parte 2: Conteo de Palabras y Visualizaciones"
   ]
  },
  {
   "cell_type": "markdown",
   "metadata": {},
   "source": [
    " ## Candidatos con mayor cantidad de palabras"
   ]
  },
  {
   "cell_type": "code",
   "execution_count": null,
   "metadata": {},
   "outputs": [],
   "source": [
    "# TODO: Realice una visualización que permita comparar las palabras más frecuentes de cada uno de los cinco candidatos/as. \n",
    "# - Encuentra algún problema en los resultados?\n"
   ]
  },
  {
   "cell_type": "code",
   "execution_count": null,
   "metadata": {},
   "outputs": [],
   "source": [
    "# TODO: Busque los candidatos/as con mayor cantidad de palabras.\n"
   ]
  },
  {
   "cell_type": "code",
   "execution_count": null,
   "metadata": {},
   "outputs": [],
   "source": [
    "# TODO: Construya una matriz de 5x5, donde cada fila y columna corresponden a un candiato/a, \n",
    "# y la entrada (i,j) contiene la cantidad de veces que el candiato/a “i” menciona al candiato/a “j”.\n",
    "\n",
    "# mentions_matrix = ...\n",
    "\n",
    "# Opcional: Genere un grafo dirigido con esa matriz de adyacencia para visualizar las menciones. \n",
    "# Puede ser util la biblioteca networkx"
   ]
  }
 ],
 "metadata": {
  "kernelspec": {
   "display_name": ".venv",
   "language": "python",
   "name": "python3"
  },
  "language_info": {
   "codemirror_mode": {
    "name": "ipython",
    "version": 3
   },
   "file_extension": ".py",
   "mimetype": "text/x-python",
   "name": "python",
   "nbconvert_exporter": "python",
   "pygments_lexer": "ipython3",
   "version": "3.12.9"
  }
 },
 "nbformat": 4,
 "nbformat_minor": 2
}
